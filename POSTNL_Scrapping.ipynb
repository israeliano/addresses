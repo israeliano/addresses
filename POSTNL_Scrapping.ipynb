{
 "cells": [
  {
   "cell_type": "code",
   "execution_count": 1,
   "id": "477e98da-27e6-409e-94ca-3e5eda1cf446",
   "metadata": {},
   "outputs": [],
   "source": [
    "# Making sure to use the updated version\n",
    "%load_ext autoreload\n",
    "%autoreload 2"
   ]
  },
  {
   "cell_type": "code",
   "execution_count": 99,
   "id": "71e792ea-5006-44a7-9433-5e5b99f22658",
   "metadata": {},
   "outputs": [],
   "source": [
    "from selenium import webdriver\n",
    "from selenium.webdriver.firefox.options import Options\n",
    "from bs4 import BeautifulSoup\n",
    "from selenium.webdriver.common.by import By\n",
    "from selenium.webdriver.support.ui import WebDriverWait\n",
    "from time import sleep\n",
    "from random import randint\n",
    "import re"
   ]
  },
  {
   "cell_type": "markdown",
   "id": "5f0194a3-a781-4194-b39f-027e72f4a957",
   "metadata": {},
   "source": [
    "# From Postcodes"
   ]
  },
  {
   "cell_type": "code",
   "execution_count": 3,
   "id": "abfb182c-03d4-47aa-9cf8-8d67bc7419e3",
   "metadata": {},
   "outputs": [],
   "source": [
    "option = Options()\n",
    "option.headless = True\n",
    "driver = webdriver.Firefox(options=option)"
   ]
  },
  {
   "cell_type": "code",
   "execution_count": 30,
   "id": "895e2e45-0dc1-4938-bbac-dc2f652ce944",
   "metadata": {},
   "outputs": [],
   "source": [
    "driver.get('https://www.postnl.nl/en/find-an-address/')"
   ]
  },
  {
   "cell_type": "code",
   "execution_count": 194,
   "id": "39259419-0e50-4152-a7b5-8bbbfda99ad3",
   "metadata": {},
   "outputs": [],
   "source": [
    "def get_full_address(postcode, number):\n",
    "    driver.find_element(By.ID, 'postalcode').clear()\n",
    "    driver.find_element(By.ID, 'number').clear()\n",
    "    \n",
    "    driver.find_element(By.ID, 'postalcode').send_keys(postcode)\n",
    "    driver.find_element(By.ID, 'number').send_keys(number)\n",
    "    l = driver.find_element(By.XPATH, \"//input[@type='submit' and @value='Zoek adres ']\")\n",
    "    driver.execute_script(\"arguments[0].click();\", l)\n",
    "    \n",
    "    sleep(1)\n",
    "    \n",
    "    result = driver.find_elements(By.XPATH, \"//div[@class='result']\")\n",
    "    ans = []\n",
    "    for r in result:\n",
    "        try:\n",
    "            street, h_number, toeg, pc, stad = (re.compile(\"<p>(\\w+)<span>(\\d+) (.*)</span></p><p>(\\w+)<span>(\\w+)</span></p>\").match(r.get_attribute('innerHTML')).groups())\n",
    "            print(street, h_number, toeg, '\\n' + pc, stad)\n",
    "            ans.append(list(map(lambda x: x.upper(), (street, h_number, toeg, pc, stad))))\n",
    "        except:\n",
    "            print('bad address')\n",
    "    \n",
    "    return ans\n",
    "   "
   ]
  },
  {
   "cell_type": "markdown",
   "id": "545e1289-a812-4e62-a276-a5369c7fe4dc",
   "metadata": {},
   "source": [
    "How to deal with the `nummber`+`toegevolgd`?"
   ]
  },
  {
   "cell_type": "markdown",
   "id": "af8b4008-f516-4df8-908a-4ad5a353fca0",
   "metadata": {},
   "source": [
    "Some examples:"
   ]
  },
  {
   "cell_type": "code",
   "execution_count": 196,
   "id": "33df58ae-8278-48fc-a3fa-22ad62a08e8d",
   "metadata": {},
   "outputs": [
    {
     "name": "stdout",
     "output_type": "stream",
     "text": [
      "Parkzichtlaan 45  \n",
      "3544NV UTRECHT\n"
     ]
    },
    {
     "data": {
      "text/plain": [
       "[['PARKZICHTLAAN', '45', '', '3544NV', 'UTRECHT']]"
      ]
     },
     "execution_count": 196,
     "metadata": {},
     "output_type": "execute_result"
    }
   ],
   "source": [
    "get_full_address('3544nv', '45')"
   ]
  },
  {
   "cell_type": "code",
   "execution_count": 197,
   "id": "2eb61f50-b0c9-4b29-ad1d-e83748bc5418",
   "metadata": {},
   "outputs": [
    {
     "name": "stdout",
     "output_type": "stream",
     "text": [
      "bad address\n"
     ]
    },
    {
     "data": {
      "text/plain": [
       "[]"
      ]
     },
     "execution_count": 197,
     "metadata": {},
     "output_type": "execute_result"
    }
   ],
   "source": [
    "get_full_address('9999NV', '45')"
   ]
  },
  {
   "cell_type": "code",
   "execution_count": 198,
   "id": "ef367b90-86d7-45d8-a557-a8dabe512e12",
   "metadata": {},
   "outputs": [
    {
     "name": "stdout",
     "output_type": "stream",
     "text": [
      "Hulselseweg 1  \n",
      "5531PE BLADEL\n",
      "Hulselseweg 1 A \n",
      "5531PE BLADEL\n"
     ]
    },
    {
     "data": {
      "text/plain": [
       "[['HULSELSEWEG', '1', '', '5531PE', 'BLADEL'],\n",
       " ['HULSELSEWEG', '1', 'A', '5531PE', 'BLADEL']]"
      ]
     },
     "execution_count": 198,
     "metadata": {},
     "output_type": "execute_result"
    }
   ],
   "source": [
    "get_full_address('5531PE', '1')"
   ]
  },
  {
   "cell_type": "markdown",
   "id": "72389521-e1ee-4e38-bc40-53ff010761f8",
   "metadata": {},
   "source": [
    "# From Street"
   ]
  },
  {
   "cell_type": "code",
   "execution_count": 201,
   "id": "067e42a2-d113-44fa-a512-eb67cb45b8e7",
   "metadata": {},
   "outputs": [],
   "source": [
    "option2 = Options()\n",
    "option2.headless = True\n",
    "driver2 = webdriver.Firefox(options=option2)\n",
    "driver2.get('https://www.postnl.nl/en/find-a-postcode/')"
   ]
  },
  {
   "cell_type": "code",
   "execution_count": 212,
   "id": "e8b03692-4685-44d4-8cf7-f6b6954141aa",
   "metadata": {},
   "outputs": [],
   "source": [
    "def get_address_from_street(street, number, city, suffix=''):\n",
    "    driver2.find_element(By.ID, 'street').clear()\n",
    "    driver2.find_element(By.ID, 'number').clear()\n",
    "    driver2.find_element(By.ID, 'addition').clear()\n",
    "    driver2.find_element(By.ID, 'city').clear()\n",
    "\n",
    "    driver2.find_element(By.ID, 'street').send_keys(street)\n",
    "    driver2.find_element(By.ID, 'number').send_keys(number)\n",
    "    driver2.find_element(By.ID, 'addition').send_keys(suffix)\n",
    "    driver2.find_element(By.ID, 'city').send_keys(city)\n",
    "    l = driver2.find_element(By.XPATH, \"//input[@type='submit' and @value='Find postcode']\")\n",
    "    driver2.execute_script(\"arguments[0].click();\", l)\n",
    "    \n",
    "    sleep(1)\n",
    "    \n",
    "    result = driver2.find_elements(By.XPATH, \"//div[@class='result']\")\n",
    "    ans = []\n",
    "    for r in result:\n",
    "        try:\n",
    "            street, h_number, toeg, pc, stad = (re.compile(\"<p>(\\w+)<span class=\\\"house-number\\\">(\\d+) (.*)</span></p><em>(\\w+)</em><span>(\\w+)</span>\").match(r.get_attribute('innerHTML')).groups())\n",
    "            print(street, h_number, toeg, pc, stad)\n",
    "            ans.append(list(map(lambda x: x.upper(), (street, h_number, toeg, pc, stad))))\n",
    "        except:\n",
    "            print('bad address')\n",
    "    \n",
    "    return ans"
   ]
  },
  {
   "cell_type": "code",
   "execution_count": 210,
   "id": "4132cb3e-8ce9-4310-8a5b-49540e438137",
   "metadata": {},
   "outputs": [
    {
     "name": "stdout",
     "output_type": "stream",
     "text": [
      "Parkzichtlaan 45  3544NV UTRECHT\n"
     ]
    },
    {
     "data": {
      "text/plain": [
       "[['PARKZICHTLAAN', '45', '', '3544NV', 'UTRECHT']]"
      ]
     },
     "execution_count": 210,
     "metadata": {},
     "output_type": "execute_result"
    }
   ],
   "source": [
    "get_address_from_street('Parkzichtlaan', '45', 'Utrecht')"
   ]
  },
  {
   "cell_type": "code",
   "execution_count": 213,
   "id": "95c7f6af-4121-4026-89d7-1623c7113d91",
   "metadata": {},
   "outputs": [
    {
     "name": "stdout",
     "output_type": "stream",
     "text": [
      "Hulselseweg 1  5531PE BLADEL\n",
      "Hulselseweg 1 A 5531PE BLADEL\n"
     ]
    },
    {
     "data": {
      "text/plain": [
       "[['HULSELSEWEG', '1', '', '5531PE', 'BLADEL'],\n",
       " ['HULSELSEWEG', '1', 'A', '5531PE', 'BLADEL']]"
      ]
     },
     "execution_count": 213,
     "metadata": {},
     "output_type": "execute_result"
    }
   ],
   "source": [
    "get_address_from_street('HULSELSEWEG', '1', 'BLADEL')"
   ]
  },
  {
   "cell_type": "code",
   "execution_count": 214,
   "id": "69e921db-a718-467a-a25d-3ee25bb0b3d0",
   "metadata": {},
   "outputs": [
    {
     "name": "stdout",
     "output_type": "stream",
     "text": [
      "Hulselseweg 1 A 5531PE BLADEL\n"
     ]
    },
    {
     "data": {
      "text/plain": [
       "[['HULSELSEWEG', '1', 'A', '5531PE', 'BLADEL']]"
      ]
     },
     "execution_count": 214,
     "metadata": {},
     "output_type": "execute_result"
    }
   ],
   "source": [
    "get_address_from_street('HULSELSEWEG', '1', 'BLADEL', 'A')"
   ]
  },
  {
   "cell_type": "code",
   "execution_count": null,
   "id": "20183819-a10f-4157-85e5-7f47270b3f74",
   "metadata": {},
   "outputs": [],
   "source": []
  }
 ],
 "metadata": {
  "kernelspec": {
   "display_name": "env",
   "language": "python",
   "name": "env"
  },
  "language_info": {
   "codemirror_mode": {
    "name": "ipython",
    "version": 3
   },
   "file_extension": ".py",
   "mimetype": "text/x-python",
   "name": "python",
   "nbconvert_exporter": "python",
   "pygments_lexer": "ipython3",
   "version": "3.10.4"
  }
 },
 "nbformat": 4,
 "nbformat_minor": 5
}
